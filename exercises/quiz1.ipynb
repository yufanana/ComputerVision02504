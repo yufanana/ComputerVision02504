{
 "cells": [
  {
   "cell_type": "code",
   "execution_count": 4,
   "metadata": {},
   "outputs": [],
   "source": [
    "import numpy as np\n",
    "import cv2"
   ]
  },
  {
   "cell_type": "code",
   "execution_count": null,
   "metadata": {},
   "outputs": [
    {
     "data": {
      "text/plain": [
       "2.3851391759997758"
      ]
     },
     "execution_count": 5,
     "metadata": {},
     "output_type": "execute_result"
    }
   ],
   "source": [
    "# Q1\n",
    "def point_line_distance(line, p):\n",
    "    \"\"\"\n",
    "    Calculate shortest distance d between line l\n",
    "    and 2D homogenous point p.\n",
    "\n",
    "    e.g.\n",
    "    line = np.array([1,0,1])\n",
    "    p = np.array([0,0,1])\n",
    "    \"\"\"\n",
    "    d = abs(line @ p) / (abs(p[2]) * np.sqrt(line[0] ** 2 + line[1] ** 2))\n",
    "    return d\n",
    "\n",
    "\n",
    "q = np.array([2, 4, 3]).T\n",
    "line = np.array([1, 2, 2]).T\n",
    "point_line_distance(line, q)"
   ]
  },
  {
   "cell_type": "code",
   "execution_count": 10,
   "metadata": {},
   "outputs": [
    {
     "name": "stdout",
     "output_type": "stream",
     "text": [
      "Q: (3, 1)\n",
      "[[-0.03]\n",
      " [ 0.01]\n",
      " [ 0.59]\n",
      " [ 1.  ]]\n",
      "[[ 0.97512475  0.19303094  0.1089531   0.09      ]\n",
      " [-0.20298104  0.97512475  0.0890529   0.05      ]\n",
      " [-0.0890529  -0.1089531   0.9900499   0.05      ]]\n",
      "[[6.50653114e+02]\n",
      " [5.91400859e+02]\n",
      " [6.35711497e-01]]\n"
     ]
    },
    {
     "data": {
      "text/plain": [
       "array([[1023.50377104],\n",
       "       [ 930.29756751]])"
      ]
     },
     "execution_count": 10,
     "metadata": {},
     "output_type": "execute_result"
    }
   ],
   "source": [
    "# Q2\n",
    "def Pi(ph):\n",
    "    \"\"\"\n",
    "    Converts coordinates from homogeneous to inhomogeneous.\n",
    "    ph : 4xn np.array\n",
    "    p : 3xn np.array\n",
    "    \"\"\"\n",
    "    p = ph[:-1] / ph[-1]  # divide by and remove last coordinate\n",
    "    return p\n",
    "\n",
    "\n",
    "def PiInv(p):\n",
    "    \"\"\"\n",
    "    Converts coordinates from inhomogeneous to homogeneous.\n",
    "    p : 3xn np.array\n",
    "    ph : 4xn np.array\n",
    "    \"\"\"\n",
    "    ph = np.vstack((p, np.ones(p.shape[1])))\n",
    "    return ph\n",
    "\n",
    "\n",
    "# pose\n",
    "R = cv2.Rodrigues(np.array([-0.1, 0.1, -0.2]))[0]\n",
    "t = np.array([[0.09], [0.05], [0.05]])\n",
    "\n",
    "Q = np.array([-0.03, 0.01, 0.59])\n",
    "Q = Q.reshape(-1, 1)\n",
    "print(\"Q:\", Q.shape)\n",
    "\n",
    "# camera intrinsics\n",
    "f = 1720\n",
    "pp = (680, 610.0)\n",
    "K = np.array([[f, 0, pp[0]], [0, f, pp[1]], [0, 0, 1]])\n",
    "\n",
    "# projection onto image plane\n",
    "Qh = PiInv(Q)  # 4 x 1\n",
    "print(Qh)\n",
    "pose = np.hstack((R, t))  # 3 x 4\n",
    "print(pose)\n",
    "Ph = K @ pose @ Qh  # 3 x 1\n",
    "print(Ph)\n",
    "P = Pi(Ph)  # 2 x 1\n",
    "P"
   ]
  },
  {
   "cell_type": "code",
   "execution_count": 7,
   "metadata": {},
   "outputs": [
    {
     "data": {
      "text/plain": [
       "array([3215.06394671,  930.29756751])"
      ]
     },
     "execution_count": 7,
     "metadata": {},
     "output_type": "execute_result"
    }
   ],
   "source": [
    "# from Copilot\n",
    "\n",
    "import numpy as np\n",
    "\n",
    "\n",
    "def project_3d_point_to_2d(\n",
    "    point_3d, focal_length, principal_point, rotation_matrix, translation_vector\n",
    "):\n",
    "    # Create the camera intrinsic matrix\n",
    "    intrinsic_matrix = np.array(\n",
    "        [\n",
    "            [focal_length, 0, principal_point[0]],\n",
    "            [0, focal_length, principal_point[1]],\n",
    "            [0, 0, 1],\n",
    "        ]\n",
    "    )\n",
    "\n",
    "    # Create the camera extrinsic matrix\n",
    "    extrinsic_matrix = np.hstack((rotation_matrix, translation_vector))\n",
    "\n",
    "    # Create the camera projection matrix\n",
    "    projection_matrix = np.dot(intrinsic_matrix, extrinsic_matrix)\n",
    "\n",
    "    # Append a 1 to the 3D point to create a homogeneous coordinate\n",
    "    point_3d_homogeneous = np.append(point_3d, 1)\n",
    "\n",
    "    # Project the 3D point to 2D\n",
    "    point_2d_homogeneous = np.dot(projection_matrix, point_3d_homogeneous)\n",
    "\n",
    "    # Convert the 2D point from homogeneous to Cartesian coordinates\n",
    "    point_2d = point_2d_homogeneous[:2] / point_2d_homogeneous[2]\n",
    "\n",
    "    return point_2d\n",
    "\n",
    "\n",
    "ans = project_3d_point_to_2d(Q, f, pp, R, t)\n",
    "ans"
   ]
  }
 ],
 "metadata": {
  "kernelspec": {
   "display_name": "cv",
   "language": "python",
   "name": "cv"
  },
  "language_info": {
   "codemirror_mode": {
    "name": "ipython",
    "version": 3
   },
   "file_extension": ".py",
   "mimetype": "text/x-python",
   "name": "python",
   "nbconvert_exporter": "python",
   "pygments_lexer": "ipython3",
   "version": "3.12.1"
  }
 },
 "nbformat": 4,
 "nbformat_minor": 2
}
