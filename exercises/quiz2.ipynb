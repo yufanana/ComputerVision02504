{
 "cells": [
  {
   "cell_type": "code",
   "execution_count": 1,
   "metadata": {},
   "outputs": [],
   "source": [
    "import numpy as np"
   ]
  },
  {
   "cell_type": "code",
   "execution_count": 2,
   "metadata": {},
   "outputs": [],
   "source": [
    "# Question 2\n",
    "def camera_intrinsic(f, c, alpha=1, beta=0):\n",
    "    \"\"\"\n",
    "    Create a camera intrinsic matrix\n",
    "\n",
    "    f : float, focal length\n",
    "    c : 2D principal point\n",
    "    alpha : float, skew\n",
    "    beta : float, aspect ratio\n",
    "    \"\"\"\n",
    "    K = np.array([[f, beta * f, c[0]], [0, alpha * f, c[1]], [0, 0, 1]])\n",
    "    return K"
   ]
  },
  {
   "cell_type": "code",
   "execution_count": 3,
   "metadata": {},
   "outputs": [
    {
     "data": {
      "text/plain": [
       "array([[1200,    0,  400],\n",
       "       [   0, 1200,  350],\n",
       "       [   0,    0,    1]])"
      ]
     },
     "execution_count": 3,
     "metadata": {},
     "output_type": "execute_result"
    }
   ],
   "source": [
    "K = camera_intrinsic(1200, (400, 350), 1, 0)\n",
    "K\n",
    "# radial distortion should not affect the camera (intrinsic?) matrix"
   ]
  },
  {
   "cell_type": "code",
   "execution_count": null,
   "metadata": {},
   "outputs": [],
   "source": [
    "K = np.array([[1000, 0, 400], [0, 1000, 300], [0, 0, 1]])\n",
    "q = np.array([1, 1, 1])"
   ]
  }
 ],
 "metadata": {
  "kernelspec": {
   "display_name": "cv",
   "language": "python",
   "name": "python3"
  },
  "language_info": {
   "codemirror_mode": {
    "name": "ipython",
    "version": 3
   },
   "file_extension": ".py",
   "mimetype": "text/x-python",
   "name": "python",
   "nbconvert_exporter": "python",
   "pygments_lexer": "ipython3",
   "version": "3.12.1"
  }
 },
 "nbformat": 4,
 "nbformat_minor": 2
}
