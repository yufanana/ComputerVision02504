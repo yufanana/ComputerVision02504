{
 "cells": [
  {
   "cell_type": "markdown",
   "metadata": {},
   "source": [
    "# Quiz 1"
   ]
  },
  {
   "cell_type": "code",
   "execution_count": 1,
   "metadata": {},
   "outputs": [],
   "source": [
    "import numpy as np\n",
    "import cv2"
   ]
  },
  {
   "cell_type": "code",
   "execution_count": 2,
   "metadata": {},
   "outputs": [
    {
     "data": {
      "text/plain": [
       "2.3851391759997758"
      ]
     },
     "execution_count": 2,
     "metadata": {},
     "output_type": "execute_result"
    }
   ],
   "source": [
    "# Q1\n",
    "def point_line_distance(line, p):\n",
    "    \"\"\"\n",
    "    Calculate shortest distance d between line l\n",
    "    and 2D homogenous point p.\n",
    "\n",
    "    e.g.\n",
    "    line = np.array([1,0,1])\n",
    "    p = np.array([0,0,1])\n",
    "    \"\"\"\n",
    "    d = abs(line @ p) / (abs(p[2]) * np.sqrt(line[0] ** 2 + line[1] ** 2))\n",
    "    return d\n",
    "\n",
    "\n",
    "q = np.array([2, 4, 3]).T\n",
    "line = np.array([1, 2, 2]).T\n",
    "point_line_distance(line, q)"
   ]
  },
  {
   "cell_type": "code",
   "execution_count": 3,
   "metadata": {},
   "outputs": [
    {
     "name": "stdout",
     "output_type": "stream",
     "text": [
      "Q: (3, 1)\n",
      "[[-0.03]\n",
      " [ 0.01]\n",
      " [ 0.59]\n",
      " [ 1.  ]]\n",
      "[[ 0.97512475  0.19303094  0.1089531   0.09      ]\n",
      " [-0.20298104  0.97512475  0.0890529   0.05      ]\n",
      " [-0.0890529  -0.1089531   0.9900499   0.05      ]]\n",
      "[[6.50653114e+02]\n",
      " [5.91400859e+02]\n",
      " [6.35711497e-01]]\n"
     ]
    },
    {
     "data": {
      "text/plain": [
       "array([[1023.50377104],\n",
       "       [ 930.29756751]])"
      ]
     },
     "execution_count": 3,
     "metadata": {},
     "output_type": "execute_result"
    }
   ],
   "source": [
    "# Q2\n",
    "def Pi(ph):\n",
    "    \"\"\"\n",
    "    Converts coordinates from homogeneous to inhomogeneous.\n",
    "    ph : 4xn np.array\n",
    "    p : 3xn np.array\n",
    "    \"\"\"\n",
    "    p = ph[:-1] / ph[-1]  # divide by and remove last coordinate\n",
    "    return p\n",
    "\n",
    "\n",
    "def PiInv(p):\n",
    "    \"\"\"\n",
    "    Converts coordinates from inhomogeneous to homogeneous.\n",
    "    p : 3xn np.array\n",
    "    ph : 4xn np.array\n",
    "    \"\"\"\n",
    "    ph = np.vstack((p, np.ones(p.shape[1])))\n",
    "    return ph\n",
    "\n",
    "\n",
    "# pose\n",
    "R = cv2.Rodrigues(np.array([-0.1, 0.1, -0.2]))[0]\n",
    "t = np.array([[0.09], [0.05], [0.05]])\n",
    "\n",
    "Q = np.array([-0.03, 0.01, 0.59])\n",
    "Q = Q.reshape(-1, 1)\n",
    "print(\"Q:\", Q.shape)\n",
    "\n",
    "# camera intrinsics\n",
    "f = 1720\n",
    "pp = (680, 610.0)\n",
    "K = np.array([[f, 0, pp[0]], [0, f, pp[1]], [0, 0, 1]])\n",
    "\n",
    "# projection onto image plane\n",
    "Qh = PiInv(Q)  # 4 x 1\n",
    "print(Qh)\n",
    "pose = np.hstack((R, t))  # 3 x 4\n",
    "print(pose)\n",
    "Ph = K @ pose @ Qh  # 3 x 1\n",
    "print(Ph)\n",
    "P = Pi(Ph)  # 2 x 1\n",
    "P"
   ]
  },
  {
   "cell_type": "code",
   "execution_count": 4,
   "metadata": {},
   "outputs": [
    {
     "data": {
      "text/plain": [
       "array([1023.50377104,  930.29756751])"
      ]
     },
     "execution_count": 4,
     "metadata": {},
     "output_type": "execute_result"
    }
   ],
   "source": [
    "# from Copilot\n",
    "\n",
    "import numpy as np\n",
    "\n",
    "\n",
    "def project_3d_point_to_2d(\n",
    "    point_3d, focal_length, principal_point, rotation_matrix, translation_vector\n",
    "):\n",
    "    # Create the camera intrinsic matrix\n",
    "    intrinsic_matrix = np.array(\n",
    "        [\n",
    "            [focal_length, 0, principal_point[0]],\n",
    "            [0, focal_length, principal_point[1]],\n",
    "            [0, 0, 1],\n",
    "        ]\n",
    "    )\n",
    "\n",
    "    # Create the camera extrinsic matrix\n",
    "    extrinsic_matrix = np.hstack((rotation_matrix, translation_vector))\n",
    "\n",
    "    # Create the camera projection matrix\n",
    "    projection_matrix = np.dot(intrinsic_matrix, extrinsic_matrix)\n",
    "\n",
    "    # Append a 1 to the 3D point to create a homogeneous coordinate\n",
    "    point_3d_homogeneous = np.append(point_3d, 1)\n",
    "\n",
    "    # Project the 3D point to 2D\n",
    "    point_2d_homogeneous = np.dot(projection_matrix, point_3d_homogeneous)\n",
    "\n",
    "    # Convert the 2D point from homogeneous to Cartesian coordinates\n",
    "    point_2d = point_2d_homogeneous[:2] / point_2d_homogeneous[2]\n",
    "\n",
    "    return point_2d\n",
    "\n",
    "\n",
    "ans = project_3d_point_to_2d(Q, f, pp, R, t)\n",
    "ans"
   ]
  },
  {
   "cell_type": "markdown",
   "metadata": {},
   "source": [
    "# Quiz 2"
   ]
  },
  {
   "cell_type": "code",
   "execution_count": 5,
   "metadata": {},
   "outputs": [],
   "source": [
    "# Question 2\n",
    "def camera_intrinsic(f, c, alpha=1, beta=0):\n",
    "    \"\"\"\n",
    "    Create a camera intrinsic matrix\n",
    "\n",
    "    f : float, focal length\n",
    "    c : 2D principal point\n",
    "    alpha : float, skew\n",
    "    beta : float, aspect ratio\n",
    "    \"\"\"\n",
    "    K = np.array([[f, beta * f, c[0]], [0, alpha * f, c[1]], [0, 0, 1]])\n",
    "    return K"
   ]
  },
  {
   "cell_type": "code",
   "execution_count": 6,
   "metadata": {},
   "outputs": [
    {
     "data": {
      "text/plain": [
       "array([[1200,    0,  400],\n",
       "       [   0, 1200,  350],\n",
       "       [   0,    0,    1]])"
      ]
     },
     "execution_count": 6,
     "metadata": {},
     "output_type": "execute_result"
    }
   ],
   "source": [
    "K = camera_intrinsic(1200, (400, 350), 1, 0)\n",
    "K\n",
    "# radial distortion should not affect the camera (intrinsic?) matrix"
   ]
  },
  {
   "cell_type": "code",
   "execution_count": 7,
   "metadata": {},
   "outputs": [],
   "source": [
    "K = np.array([[1000, 0, 400], [0, 1000, 300], [0, 0, 1]])\n",
    "q = np.array([1, 1, 1])"
   ]
  },
  {
   "cell_type": "markdown",
   "metadata": {},
   "source": [
    "# Quiz 3"
   ]
  },
  {
   "cell_type": "code",
   "execution_count": 8,
   "metadata": {},
   "outputs": [],
   "source": [
    "import numpy as np\n",
    "import cv2\n",
    "\n",
    "from util_functions import (\n",
    "    fundamental_matrix,\n",
    "    point_line_distance,\n",
    "    projection_matrix,\n",
    "    triangulate,\n",
    "    PiInv,\n",
    ")"
   ]
  },
  {
   "cell_type": "code",
   "execution_count": 9,
   "metadata": {},
   "outputs": [],
   "source": [
    "# Copied from question\n",
    "K = np.array([[900, 0, 1070], [0, 900, 610.0], [0, 0, 1]], float)\n",
    "R1 = cv2.Rodrigues(np.array([-1.6, 0.3, -2.1]))[0]\n",
    "t1 = np.array([[0.0], [1.0], [3.0]], float)\n",
    "R2 = cv2.Rodrigues(np.array([-0.4, -1.3, -1.6]))[0]\n",
    "t2 = np.array([[0.0], [1.0], [6.0]], float)\n",
    "R3 = cv2.Rodrigues(np.array([2.5, 1.7, -0.4]))[0]\n",
    "t3 = np.array([[2.0], [-7.0], [25.0]], float)\n",
    "\n",
    "# Observed points with noise\n",
    "p1 = np.array([[1046.0], [453.0]])\n",
    "p2 = np.array([[1126.0], [671.0]])\n",
    "p3 = np.array([[1165.0], [453.0]])"
   ]
  },
  {
   "cell_type": "code",
   "execution_count": 10,
   "metadata": {},
   "outputs": [
    {
     "data": {
      "text/plain": [
       "array([[13.27182907]])"
      ]
     },
     "execution_count": 10,
     "metadata": {},
     "output_type": "execute_result"
    }
   ],
   "source": [
    "F = fundamental_matrix(K, R1, t1, K, R2, t2)\n",
    "\n",
    "# Epipolar line of p1 in camera 2\n",
    "l2 = F @ PiInv(p1)\n",
    "\n",
    "# Calculate distance of p2 to epipolar line\n",
    "d = point_line_distance(l2, PiInv(p2))\n",
    "d"
   ]
  },
  {
   "cell_type": "code",
   "execution_count": 11,
   "metadata": {},
   "outputs": [
    {
     "data": {
      "text/plain": [
       "array([[3.10058867],\n",
       "       [0.74321098],\n",
       "       [0.46490561]])"
      ]
     },
     "execution_count": 11,
     "metadata": {},
     "output_type": "execute_result"
    }
   ],
   "source": [
    "q_list = [p1, p2, p3]\n",
    "\n",
    "P1 = projection_matrix(K, R1, t1)\n",
    "P2 = projection_matrix(K, R2, t2)\n",
    "P3 = projection_matrix(K, R3, t3)\n",
    "P_list = [P1, P2, P3]\n",
    "\n",
    "# Triangulate the points\n",
    "Q = triangulate(q_list, P_list)\n",
    "Q"
   ]
  },
  {
   "cell_type": "markdown",
   "metadata": {},
   "source": [
    "# Quiz 6"
   ]
  },
  {
   "cell_type": "code",
   "execution_count": 16,
   "metadata": {},
   "outputs": [
    {
     "name": "stdout",
     "output_type": "stream",
     "text": [
      "dict_keys(['g*(I_x^2)', 'g*(I_y^2)', 'g*(I_x I_y)'])\n"
     ]
    }
   ],
   "source": [
    "data = np.load(\"media/harris.npy\", allow_pickle=True).item()\n",
    "print(data.keys())\n",
    "\n",
    "gxx = data[\"g*(I_x^2)\"]\n",
    "gyy = data[\"g*(I_y^2)\"]\n",
    "gxy = data[\"g*(I_x I_y)\"]\n",
    "\n",
    "k = 0.06\n",
    "tau = 516"
   ]
  },
  {
   "cell_type": "code",
   "execution_count": 18,
   "metadata": {},
   "outputs": [],
   "source": [
    "# Structure tensor\n",
    "C00 = gxx\n",
    "C01 = gxy\n",
    "C10 = C01\n",
    "C11 = gyy\n",
    "C = np.array([[C00, C01], [C10, C11]])\n",
    "\n",
    "# Harris measure\n",
    "a = C[0, 0]\n",
    "b = C[1, 1]\n",
    "c = C[0, 1]\n",
    "r = a * b - c**2 - k * (a + b) ** 2"
   ]
  },
  {
   "cell_type": "code",
   "execution_count": 21,
   "metadata": {},
   "outputs": [
    {
     "name": "stdout",
     "output_type": "stream",
     "text": [
      "Corners found at [[2, 1]]\n"
     ]
    }
   ],
   "source": [
    "# Perform 4-neigbourhood non-max suppression\n",
    "c = []\n",
    "for i in range(1, gxx.shape[0] - 1):\n",
    "    for j in range(1, gxx.shape[1] - 1):\n",
    "        if (\n",
    "            r[i, j] > r[i + 1, j]\n",
    "            and r[i, j] >= r[i - 1, j]\n",
    "            and r[i, j] > r[i, j + 1]\n",
    "            and r[i, j] >= r[i, j - 1]\n",
    "            and r[i, j] > tau\n",
    "        ):  # Threshold\n",
    "            c.append([i, j])\n",
    "\n",
    "print(f\"Corners found at {c}\")"
   ]
  }
 ],
 "metadata": {
  "kernelspec": {
   "display_name": "cv",
   "language": "python",
   "name": "python3"
  },
  "language_info": {
   "codemirror_mode": {
    "name": "ipython",
    "version": 3
   },
   "file_extension": ".py",
   "mimetype": "text/x-python",
   "name": "python",
   "nbconvert_exporter": "python",
   "pygments_lexer": "ipython3",
   "version": "3.12.1"
  }
 },
 "nbformat": 4,
 "nbformat_minor": 2
}
