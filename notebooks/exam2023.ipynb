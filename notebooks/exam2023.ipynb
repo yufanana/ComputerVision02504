{
 "cells": [
  {
   "cell_type": "code",
   "execution_count": 2,
   "metadata": {},
   "outputs": [],
   "source": [
    "import cv2\n",
    "import numpy as np\n",
    "# import matplotlib.pyplot as plt\n",
    "\n",
    "from cv02504.util_functions import *"
   ]
  },
  {
   "cell_type": "code",
   "execution_count": 3,
   "metadata": {},
   "outputs": [
    {
     "data": {
      "text/plain": [
       "array([[1200,    0,  400],\n",
       "       [   0, 1200,  350],\n",
       "       [   0,    0,    1]])"
      ]
     },
     "execution_count": 3,
     "metadata": {},
     "output_type": "execute_result"
    }
   ],
   "source": [
    "# Q1: camera intrinsic matrix\n",
    "K = camera_intrinsic(1200, (400,350), alpha=1, beta=0)\n",
    "K"
   ]
  },
  {
   "cell_type": "code",
   "execution_count": 4,
   "metadata": {},
   "outputs": [
    {
     "name": "stdout",
     "output_type": "stream",
     "text": [
      "800.0\n",
      "400.0\n"
     ]
    }
   ],
   "source": [
    "# Q2: resizing image\n",
    "Px = 0.4\n",
    "print(Px*1000+400)\n",
    "print(Px*500+200)"
   ]
  },
  {
   "cell_type": "code",
   "execution_count": 5,
   "metadata": {},
   "outputs": [
    {
     "name": "stdout",
     "output_type": "stream",
     "text": [
      "(3, 1)\n"
     ]
    },
    {
     "data": {
      "text/plain": [
       "array([[1023.50377104],\n",
       "       [ 930.29756751]])"
      ]
     },
     "execution_count": 5,
     "metadata": {},
     "output_type": "execute_result"
    }
   ],
   "source": [
    "# Q3: projection\n",
    "K = camera_intrinsic(1720, (680,610), 1, 0)\n",
    "R = cv2.Rodrigues(np.array([-0.1, 0.1, -0.2]))[0]\n",
    "t = np.array([[0.09], [0.05], [0.05]])\n",
    "Q = np.array([[-0.03, 0.01, 0.59]]).T\n",
    "\n",
    "print(Q.shape)\n",
    "\n",
    "ans = project_points(K, R, t, Q)\n",
    "ans"
   ]
  },
  {
   "cell_type": "code",
   "execution_count": 6,
   "metadata": {},
   "outputs": [
    {
     "data": {
      "text/plain": [
       "array([[1023.50377104],\n",
       "       [ 930.29756751]])"
      ]
     },
     "execution_count": 6,
     "metadata": {},
     "output_type": "execute_result"
    }
   ],
   "source": [
    "Rt = np.hstack((R, t))\n",
    "ph = Pi(K @ Rt @ PiInv(Q))\n",
    "ph"
   ]
  },
  {
   "cell_type": "code",
   "execution_count": 9,
   "metadata": {},
   "outputs": [
    {
     "data": {
      "text/plain": [
       "array([[13.27182907]])"
      ]
     },
     "execution_count": 9,
     "metadata": {},
     "output_type": "execute_result"
    }
   ],
   "source": [
    "# Q5: epipolar line\n",
    "K = np.array([[900, 0, 1070], [0, 900, 610.0], [0, 0, 1]], float)\n",
    "R1 = cv2.Rodrigues(np.array([-1.6, 0.3, -2.1]))[0]\n",
    "t1 = np.array([[0.0], [1.0], [3.0]], float)\n",
    "R2 = cv2.Rodrigues(np.array([-0.4, -1.3, -1.6]))[0]\n",
    "t2 = np.array([[0.0], [1.0], [6.0]], float)\n",
    "R3 = cv2.Rodrigues(np.array([2.5, 1.7, -0.4]))[0]\n",
    "t3 = np.array([[2.0], [-7.0], [25.0]], float)\n",
    "\n",
    "p1 = np.array([[1046.0], [453.0]])  # 2x1\n",
    "p2 = np.array([[1126.0], [671.0]])\n",
    "p3 = np.array([[1165.0], [453.0]])\n",
    "\n",
    "F = fundamental_matrix(K, R1, t1, K, R2, t2)\n",
    "\n",
    "epiline_c2 = F @ PiInv(p1)\n",
    "dist = point_line_distance(epiline_c2, PiInv(p2))\n",
    "dist"
   ]
  },
  {
   "cell_type": "code",
   "execution_count": null,
   "metadata": {},
   "outputs": [
    {
     "data": {
      "text/plain": [
       "array([[3.10058867],\n",
       "       [0.74321098],\n",
       "       [0.46490561]])"
      ]
     },
     "execution_count": 7,
     "metadata": {},
     "output_type": "execute_result"
    }
   ],
   "source": [
    "# Q6: triangulation without normalization\n",
    "P1 = K @ np.hstack((R1, t1))\n",
    "P2 = K @ np.hstack((R2, t2))\n",
    "P3 = K @ np.hstack((R3, t3))\n",
    "\n",
    "q1 = PiInv(p1)\n",
    "q2 = PiInv(p2)\n",
    "q3 = PiInv(p3)\n",
    "\n",
    "Q = triangulate([q1, q2, q3], [P1, P2, P3])\n",
    "Q"
   ]
  },
  {
   "cell_type": "code",
   "execution_count": null,
   "metadata": {},
   "outputs": [
    {
     "data": {
      "text/plain": [
       "array([[2.38513918]])"
      ]
     },
     "execution_count": 8,
     "metadata": {},
     "output_type": "execute_result"
    }
   ],
   "source": [
    "# Q11: distance from line\n",
    "q = np.array([[2,4,3]]).T\n",
    "l = np.array([[1,2,2]]).T\n",
    "dist = point_line_distance(l, q)\n",
    "dist"
   ]
  },
  {
   "cell_type": "code",
   "execution_count": null,
   "metadata": {},
   "outputs": [
    {
     "name": "stdout",
     "output_type": "stream",
     "text": [
      "dict_keys(['g*(I_x^2)', 'g*(I_y^2)', 'g*(I_x I_y)'])\n",
      "r.shape: (5, 5)\n"
     ]
    },
    {
     "data": {
      "image/png": "[encoded data removed]",
      "text/plain": [
       "<Figure size 640x480 with 2 Axes>"
      ]
     },
     "metadata": {},
     "output_type": "display_data"
    },
    {
     "name": "stdout",
     "output_type": "stream",
     "text": [
      "Corners found at [[2, 1]]\n"
     ]
    }
   ],
   "source": [
    "# Q12: harris measure\n",
    "data = np.load(\"media/harris.npy\", allow_pickle=True).item()\n",
    "print(data.keys())\n",
    "\n",
    "gxx = data[\"g*(I_x^2)\"]\n",
    "gyy = data[\"g*(I_y^2)\"]\n",
    "gxy = data[\"g*(I_x I_y)\"]\n",
    "\n",
    "k = 0.06\n",
    "tau = 516\n",
    "\n",
    "# Structure tensor\n",
    "C = np.array([[gxx, gxy], [gxy, gyy]])\n",
    "\n",
    "# Harris measure\n",
    "a = C[0, 0]\n",
    "b = C[1, 1]\n",
    "c = C[0, 1]\n",
    "r = a * b - c**2 - k * (a + b) ** 2\n",
    "print(f\"r.shape: {r.shape}\")\n",
    "\n",
    "# Perform 4-neigbourhood non-max suppression\n",
    "c = []\n",
    "for i in range(1, gxx.shape[0] - 1):\n",
    "    for j in range(1, gxx.shape[1] - 1):\n",
    "        if (\n",
    "            r[i, j] > r[i + 1, j]\n",
    "            and r[i, j] >= r[i - 1, j]\n",
    "            and r[i, j] > r[i, j + 1]\n",
    "            and r[i, j] >= r[i, j - 1]\n",
    "            and r[i, j] > tau\n",
    "        ):  # Threshold\n",
    "            c.append([i, j])\n",
    "\n",
    "plt.imshow(r, cmap='gray')\n",
    "plt.gca().invert_yaxis() # Origin at top-left corner\n",
    "plt.axis('off')\n",
    "plt.colorbar()\n",
    "plt.show()\n",
    "print(f\"Corners found at {c}\")"
   ]
  },
  {
   "cell_type": "code",
   "execution_count": null,
   "metadata": {},
   "outputs": [
    {
     "name": "stdout",
     "output_type": "stream",
     "text": [
      "keys: dict_keys(['points', 'x1', 'x2'])\n",
      "No. of inliers: 34\n"
     ]
    }
   ],
   "source": [
    "# Q13: ransac 2D lines\n",
    "data = np.load(\"media/ransac.npy\", allow_pickle=True).item()\n",
    "print(f\"keys: {data.keys()}\")\n",
    "\n",
    "x1 = data[\"x1\"] # (2,)\n",
    "x2 = data[\"x2\"]\n",
    "points = data[\"points\"]\n",
    "tau = 0.2\n",
    "\n",
    "# RANSAC\n",
    "x1h = PiInv(x1.reshape(2,1))\n",
    "x2h = PiInv(x2.reshape(2,1))\n",
    "line = np.cross(x1h.squeeze(), x2h.squeeze())\n",
    "line = line.reshape(3,1)\n",
    "\n",
    "inliers = 0\n",
    "for p in points.T:\n",
    "    p = p.reshape(2,1)\n",
    "    ph = PiInv(p)\n",
    "    dist = point_line_distance(line, ph)\n",
    "    if dist < tau:\n",
    "        inliers += 1\n",
    "\n",
    "print(f\"No. of inliers: {inliers}\")"
   ]
  },
  {
   "cell_type": "code",
   "execution_count": null,
   "metadata": {},
   "outputs": [
    {
     "data": {
      "text/plain": [
       "707.5554825030302"
      ]
     },
     "execution_count": 30,
     "metadata": {},
     "output_type": "execute_result"
    }
   ],
   "source": [
    "# Q14: ransac iterations\n",
    "s = 103     # best number of inliers\n",
    "m = 404     # total number of points\n",
    "p = 0.95    # probability of only inliers\n",
    "n = 4       # number of points to fit model\n",
    "\n",
    "N = np.log(1-p) / np.log(1-(s/m)**n)\n",
    "N"
   ]
  },
  {
   "cell_type": "code",
   "execution_count": null,
   "metadata": {},
   "outputs": [],
   "source": [
    "# Q15: difference of gaussians, DoG\n"
   ]
  }
 ],
 "metadata": {
  "kernelspec": {
   "display_name": "cv311",
   "language": "python",
   "name": "python3"
  },
  "language_info": {
   "codemirror_mode": {
    "name": "ipython",
    "version": 3
   },
   "file_extension": ".py",
   "mimetype": "text/x-python",
   "name": "python",
   "nbconvert_exporter": "python",
   "pygments_lexer": "ipython3",
   "version": "3.12.1"
  }
 },
 "nbformat": 4,
 "nbformat_minor": 2
}
