{
 "cells": [
  {
   "cell_type": "code",
   "execution_count": 6,
   "metadata": {},
   "outputs": [],
   "source": [
    "import cv2\n",
    "import numpy as np\n",
    "import matplotlib.pyplot as plt\n",
    "\n",
    "from cv02504.util_functions import *"
   ]
  },
  {
   "cell_type": "code",
   "execution_count": 7,
   "metadata": {},
   "outputs": [
    {
     "data": {
      "text/plain": [
       "array([[1200,    0,  400],\n",
       "       [   0, 1200,  350],\n",
       "       [   0,    0,    1]])"
      ]
     },
     "execution_count": 7,
     "metadata": {},
     "output_type": "execute_result"
    }
   ],
   "source": [
    "# Q1: camera intrinsic matrix\n",
    "K = camera_intrinsic(1200, (400,350), alpha=1, beta=0)\n",
    "K"
   ]
  },
  {
   "cell_type": "code",
   "execution_count": 8,
   "metadata": {},
   "outputs": [
    {
     "name": "stdout",
     "output_type": "stream",
     "text": [
      "800.0\n",
      "400.0\n"
     ]
    }
   ],
   "source": [
    "# Q2: resizing image\n",
    "Px = 0.4\n",
    "print(Px*1000+400)\n",
    "print(Px*500+200)"
   ]
  },
  {
   "cell_type": "code",
   "execution_count": 9,
   "metadata": {},
   "outputs": [
    {
     "name": "stdout",
     "output_type": "stream",
     "text": [
      "(3, 1)\n"
     ]
    },
    {
     "data": {
      "text/plain": [
       "array([[1023.50377104],\n",
       "       [ 930.29756751]])"
      ]
     },
     "execution_count": 9,
     "metadata": {},
     "output_type": "execute_result"
    }
   ],
   "source": [
    "# Q3: projection\n",
    "K = camera_intrinsic(1720, (680,610), 1, 0)\n",
    "R = cv2.Rodrigues(np.array([-0.1, 0.1, -0.2]))[0]\n",
    "t = np.array([[0.09], [0.05], [0.05]])\n",
    "Q = np.array([[-0.03, 0.01, 0.59]]).T\n",
    "\n",
    "print(Q.shape)\n",
    "\n",
    "ans = project_points(K, R, t, Q)\n",
    "ans"
   ]
  },
  {
   "cell_type": "code",
   "execution_count": 10,
   "metadata": {},
   "outputs": [
    {
     "data": {
      "text/plain": [
       "array([[1023.50377104],\n",
       "       [ 930.29756751]])"
      ]
     },
     "execution_count": 10,
     "metadata": {},
     "output_type": "execute_result"
    }
   ],
   "source": [
    "Rt = np.hstack((R, t))\n",
    "ph = Pi(K @ Rt @ PiInv(Q))\n",
    "ph"
   ]
  },
  {
   "cell_type": "code",
   "execution_count": 11,
   "metadata": {},
   "outputs": [
    {
     "data": {
      "text/plain": [
       "array([[-0.0931562]])"
      ]
     },
     "execution_count": 11,
     "metadata": {},
     "output_type": "execute_result"
    }
   ],
   "source": [
    "# Q5: epipolar line\n",
    "K = np.array([[900, 0, 1070], [0, 900, 610.0], [0, 0, 1]], float)\n",
    "R1 = cv2.Rodrigues(np.array([-1.6, 0.3, -2.1]))[0]\n",
    "t1 = np.array([[0.0], [1.0], [3.0]], float)\n",
    "R2 = cv2.Rodrigues(np.array([-0.4, -1.3, -1.6]))[0]\n",
    "t2 = np.array([[0.0], [1.0], [6.0]], float)\n",
    "R3 = cv2.Rodrigues(np.array([2.5, 1.7, -0.4]))[0]\n",
    "t3 = np.array([[2.0], [-7.0], [25.0]], float)\n",
    "\n",
    "p1 = np.array([[1046.0], [453.0]])  # 2x1\n",
    "p2 = np.array([[1126.0], [671.0]])\n",
    "p3 = np.array([[1165.0], [453.0]])\n",
    "\n",
    "F = fundamental_matrix(K, R1, t1, K, R2, t2)\n",
    "\n",
    "epiline_c2 = F @ PiInv(p1)\n",
    "dist = epiline_c2.T @ PiInv(p2)\n",
    "dist"
   ]
  },
  {
   "cell_type": "code",
   "execution_count": 12,
   "metadata": {},
   "outputs": [
    {
     "data": {
      "text/plain": [
       "array([[3.10058867],\n",
       "       [0.74321098],\n",
       "       [0.46490561]])"
      ]
     },
     "execution_count": 12,
     "metadata": {},
     "output_type": "execute_result"
    }
   ],
   "source": [
    "# Q6: triangulation without normalization\n",
    "P1 = K @ np.hstack((R1, t1))\n",
    "P2 = K @ np.hstack((R2, t2))\n",
    "P3 = K @ np.hstack((R3, t3))\n",
    "\n",
    "q1 = PiInv(p1)\n",
    "q2 = PiInv(p2)\n",
    "q3 = PiInv(p3)\n",
    "\n",
    "Q = triangulate([q1, q2, q3], [P1, P2, P3])\n",
    "Q"
   ]
  },
  {
   "cell_type": "code",
   "execution_count": null,
   "metadata": {},
   "outputs": [],
   "source": []
  },
  {
   "cell_type": "code",
   "execution_count": null,
   "metadata": {},
   "outputs": [],
   "source": []
  },
  {
   "cell_type": "code",
   "execution_count": null,
   "metadata": {},
   "outputs": [],
   "source": []
  },
  {
   "cell_type": "code",
   "execution_count": null,
   "metadata": {},
   "outputs": [],
   "source": []
  },
  {
   "cell_type": "code",
   "execution_count": null,
   "metadata": {},
   "outputs": [],
   "source": []
  }
 ],
 "metadata": {
  "kernelspec": {
   "display_name": "cv311",
   "language": "python",
   "name": "python3"
  },
  "language_info": {
   "codemirror_mode": {
    "name": "ipython",
    "version": 3
   },
   "file_extension": ".py",
   "mimetype": "text/x-python",
   "name": "python",
   "nbconvert_exporter": "python",
   "pygments_lexer": "ipython3",
   "version": "3.12.1"
  }
 },
 "nbformat": 4,
 "nbformat_minor": 2
}
