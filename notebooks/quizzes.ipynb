{
 "cells": [
  {
   "cell_type": "markdown",
   "metadata": {},
   "source": [
    "# Quiz 1"
   ]
  },
  {
   "cell_type": "code",
   "execution_count": 3,
   "metadata": {},
   "outputs": [],
   "source": [
    "import numpy as np\n",
    "import cv2"
   ]
  },
  {
   "cell_type": "code",
   "execution_count": 2,
   "metadata": {},
   "outputs": [
    {
     "data": {
      "text/plain": [
       "2.3851391759997758"
      ]
     },
     "execution_count": 2,
     "metadata": {},
     "output_type": "execute_result"
    }
   ],
   "source": [
    "# Q1\n",
    "def point_line_distance(line, p):\n",
    "    \"\"\"\n",
    "    Calculate shortest distance d between line l\n",
    "    and 2D homogenous point p.\n",
    "\n",
    "    e.g.\n",
    "    line = np.array([1,0,1])\n",
    "    p = np.array([0,0,1])\n",
    "    \"\"\"\n",
    "    d = abs(line @ p) / (abs(p[2]) * np.sqrt(line[0] ** 2 + line[1] ** 2))\n",
    "    return d\n",
    "\n",
    "\n",
    "q = np.array([2, 4, 3]).T\n",
    "line = np.array([1, 2, 2]).T\n",
    "point_line_distance(line, q)"
   ]
  },
  {
   "cell_type": "code",
   "execution_count": 3,
   "metadata": {},
   "outputs": [
    {
     "name": "stdout",
     "output_type": "stream",
     "text": [
      "Q: (3, 1)\n",
      "[[-0.03]\n",
      " [ 0.01]\n",
      " [ 0.59]\n",
      " [ 1.  ]]\n",
      "[[ 0.97512475  0.19303094  0.1089531   0.09      ]\n",
      " [-0.20298104  0.97512475  0.0890529   0.05      ]\n",
      " [-0.0890529  -0.1089531   0.9900499   0.05      ]]\n",
      "[[6.50653114e+02]\n",
      " [5.91400859e+02]\n",
      " [6.35711497e-01]]\n"
     ]
    },
    {
     "data": {
      "text/plain": [
       "array([[1023.50377104],\n",
       "       [ 930.29756751]])"
      ]
     },
     "execution_count": 3,
     "metadata": {},
     "output_type": "execute_result"
    }
   ],
   "source": [
    "# Q2\n",
    "def Pi(ph):\n",
    "    \"\"\"\n",
    "    Converts coordinates from homogeneous to inhomogeneous.\n",
    "    ph : 4xn np.array\n",
    "    p : 3xn np.array\n",
    "    \"\"\"\n",
    "    p = ph[:-1] / ph[-1]  # divide by and remove last coordinate\n",
    "    return p\n",
    "\n",
    "\n",
    "def PiInv(p):\n",
    "    \"\"\"\n",
    "    Converts coordinates from inhomogeneous to homogeneous.\n",
    "    p : 3xn np.array\n",
    "    ph : 4xn np.array\n",
    "    \"\"\"\n",
    "    ph = np.vstack((p, np.ones(p.shape[1])))\n",
    "    return ph\n",
    "\n",
    "\n",
    "# pose\n",
    "R = cv2.Rodrigues(np.array([-0.1, 0.1, -0.2]))[0]\n",
    "t = np.array([[0.09], [0.05], [0.05]])\n",
    "\n",
    "Q = np.array([-0.03, 0.01, 0.59])\n",
    "Q = Q.reshape(-1, 1)\n",
    "print(\"Q:\", Q.shape)\n",
    "\n",
    "# camera intrinsics\n",
    "f = 1720\n",
    "pp = (680, 610.0)\n",
    "K = np.array([[f, 0, pp[0]], [0, f, pp[1]], [0, 0, 1]])\n",
    "\n",
    "# projection onto image plane\n",
    "Qh = PiInv(Q)  # 4 x 1\n",
    "print(Qh)\n",
    "pose = np.hstack((R, t))  # 3 x 4\n",
    "print(pose)\n",
    "Ph = K @ pose @ Qh  # 3 x 1\n",
    "print(Ph)\n",
    "P = Pi(Ph)  # 2 x 1\n",
    "P"
   ]
  },
  {
   "cell_type": "code",
   "execution_count": 4,
   "metadata": {},
   "outputs": [
    {
     "data": {
      "text/plain": [
       "array([1023.50377104,  930.29756751])"
      ]
     },
     "execution_count": 4,
     "metadata": {},
     "output_type": "execute_result"
    }
   ],
   "source": [
    "# from Copilot\n",
    "\n",
    "import numpy as np\n",
    "\n",
    "\n",
    "def project_3d_point_to_2d(\n",
    "    point_3d, focal_length, principal_point, rotation_matrix, translation_vector\n",
    "):\n",
    "    # Create the camera intrinsic matrix\n",
    "    intrinsic_matrix = np.array(\n",
    "        [\n",
    "            [focal_length, 0, principal_point[0]],\n",
    "            [0, focal_length, principal_point[1]],\n",
    "            [0, 0, 1],\n",
    "        ]\n",
    "    )\n",
    "\n",
    "    # Create the camera extrinsic matrix\n",
    "    extrinsic_matrix = np.hstack((rotation_matrix, translation_vector))\n",
    "\n",
    "    # Create the camera projection matrix\n",
    "    projection_matrix = np.dot(intrinsic_matrix, extrinsic_matrix)\n",
    "\n",
    "    # Append a 1 to the 3D point to create a homogeneous coordinate\n",
    "    point_3d_homogeneous = np.append(point_3d, 1)\n",
    "\n",
    "    # Project the 3D point to 2D\n",
    "    point_2d_homogeneous = np.dot(projection_matrix, point_3d_homogeneous)\n",
    "\n",
    "    # Convert the 2D point from homogeneous to Cartesian coordinates\n",
    "    point_2d = point_2d_homogeneous[:2] / point_2d_homogeneous[2]\n",
    "\n",
    "    return point_2d\n",
    "\n",
    "\n",
    "ans = project_3d_point_to_2d(Q, f, pp, R, t)\n",
    "ans"
   ]
  },
  {
   "cell_type": "markdown",
   "metadata": {},
   "source": [
    "# Quiz 2"
   ]
  },
  {
   "cell_type": "code",
   "execution_count": 5,
   "metadata": {},
   "outputs": [],
   "source": [
    "# Question 2\n",
    "def camera_intrinsic(f, c, alpha=1, beta=0):\n",
    "    \"\"\"\n",
    "    Create a camera intrinsic matrix\n",
    "\n",
    "    f : float, focal length\n",
    "    c : 2D principal point\n",
    "    alpha : float, skew\n",
    "    beta : float, aspect ratio\n",
    "    \"\"\"\n",
    "    K = np.array([[f, beta * f, c[0]], [0, alpha * f, c[1]], [0, 0, 1]])\n",
    "    return K"
   ]
  },
  {
   "cell_type": "code",
   "execution_count": 6,
   "metadata": {},
   "outputs": [
    {
     "data": {
      "text/plain": [
       "array([[1200,    0,  400],\n",
       "       [   0, 1200,  350],\n",
       "       [   0,    0,    1]])"
      ]
     },
     "execution_count": 6,
     "metadata": {},
     "output_type": "execute_result"
    }
   ],
   "source": [
    "K = camera_intrinsic(1200, (400, 350), 1, 0)\n",
    "K\n",
    "# radial distortion should not affect the camera (intrinsic?) matrix"
   ]
  },
  {
   "cell_type": "code",
   "execution_count": 7,
   "metadata": {},
   "outputs": [],
   "source": [
    "K = np.array([[1000, 0, 400], [0, 1000, 300], [0, 0, 1]])\n",
    "q = np.array([1, 1, 1])"
   ]
  },
  {
   "cell_type": "markdown",
   "metadata": {},
   "source": [
    "# Quiz 3"
   ]
  },
  {
   "cell_type": "code",
   "execution_count": 8,
   "metadata": {},
   "outputs": [],
   "source": [
    "import numpy as np\n",
    "import cv2\n",
    "\n",
    "from util_functions import (\n",
    "    fundamental_matrix,\n",
    "    point_line_distance,\n",
    "    projection_matrix,\n",
    "    triangulate,\n",
    "    PiInv,\n",
    ")"
   ]
  },
  {
   "cell_type": "code",
   "execution_count": 9,
   "metadata": {},
   "outputs": [],
   "source": [
    "# Copied from question\n",
    "K = np.array([[900, 0, 1070], [0, 900, 610.0], [0, 0, 1]], float)\n",
    "R1 = cv2.Rodrigues(np.array([-1.6, 0.3, -2.1]))[0]\n",
    "t1 = np.array([[0.0], [1.0], [3.0]], float)\n",
    "R2 = cv2.Rodrigues(np.array([-0.4, -1.3, -1.6]))[0]\n",
    "t2 = np.array([[0.0], [1.0], [6.0]], float)\n",
    "R3 = cv2.Rodrigues(np.array([2.5, 1.7, -0.4]))[0]\n",
    "t3 = np.array([[2.0], [-7.0], [25.0]], float)\n",
    "\n",
    "# Observed points with noise\n",
    "p1 = np.array([[1046.0], [453.0]])\n",
    "p2 = np.array([[1126.0], [671.0]])\n",
    "p3 = np.array([[1165.0], [453.0]])"
   ]
  },
  {
   "cell_type": "code",
   "execution_count": 10,
   "metadata": {},
   "outputs": [
    {
     "data": {
      "text/plain": [
       "array([[13.27182907]])"
      ]
     },
     "execution_count": 10,
     "metadata": {},
     "output_type": "execute_result"
    }
   ],
   "source": [
    "F = fundamental_matrix(K, R1, t1, K, R2, t2)\n",
    "\n",
    "# Epipolar line of p1 in camera 2\n",
    "l2 = F @ PiInv(p1)\n",
    "\n",
    "# Calculate distance of p2 to epipolar line\n",
    "d = point_line_distance(l2, PiInv(p2))\n",
    "d"
   ]
  },
  {
   "cell_type": "code",
   "execution_count": 11,
   "metadata": {},
   "outputs": [
    {
     "data": {
      "text/plain": [
       "array([[3.10058867],\n",
       "       [0.74321098],\n",
       "       [0.46490561]])"
      ]
     },
     "execution_count": 11,
     "metadata": {},
     "output_type": "execute_result"
    }
   ],
   "source": [
    "q_list = [p1, p2, p3]\n",
    "\n",
    "P1 = projection_matrix(K, R1, t1)\n",
    "P2 = projection_matrix(K, R2, t2)\n",
    "P3 = projection_matrix(K, R3, t3)\n",
    "P_list = [P1, P2, P3]\n",
    "\n",
    "# Triangulate the points\n",
    "Q = triangulate(q_list, P_list)\n",
    "Q"
   ]
  },
  {
   "cell_type": "markdown",
   "metadata": {},
   "source": [
    "# Quiz 6"
   ]
  },
  {
   "cell_type": "code",
   "execution_count": 12,
   "metadata": {},
   "outputs": [
    {
     "name": "stdout",
     "output_type": "stream",
     "text": [
      "dict_keys(['g*(I_x^2)', 'g*(I_y^2)', 'g*(I_x I_y)'])\n"
     ]
    }
   ],
   "source": [
    "data = np.load(\"media/harris.npy\", allow_pickle=True).item()\n",
    "print(data.keys())\n",
    "\n",
    "gxx = data[\"g*(I_x^2)\"]\n",
    "gyy = data[\"g*(I_y^2)\"]\n",
    "gxy = data[\"g*(I_x I_y)\"]\n",
    "\n",
    "k = 0.06\n",
    "tau = 516"
   ]
  },
  {
   "cell_type": "code",
   "execution_count": 13,
   "metadata": {},
   "outputs": [],
   "source": [
    "# Structure tensor\n",
    "C00 = gxx\n",
    "C01 = gxy\n",
    "C10 = C01\n",
    "C11 = gyy\n",
    "C = np.array([[C00, C01], [C10, C11]])\n",
    "\n",
    "# Harris measure\n",
    "a = C[0, 0]\n",
    "b = C[1, 1]\n",
    "c = C[0, 1]\n",
    "r = a * b - c**2 - k * (a + b) ** 2"
   ]
  },
  {
   "cell_type": "code",
   "execution_count": 14,
   "metadata": {},
   "outputs": [
    {
     "name": "stdout",
     "output_type": "stream",
     "text": [
      "Corners found at [[2, 1]]\n"
     ]
    }
   ],
   "source": [
    "# Perform 4-neigbourhood non-max suppression\n",
    "c = []\n",
    "for i in range(1, gxx.shape[0] - 1):\n",
    "    for j in range(1, gxx.shape[1] - 1):\n",
    "        if (\n",
    "            r[i, j] > r[i + 1, j]\n",
    "            and r[i, j] >= r[i - 1, j]\n",
    "            and r[i, j] > r[i, j + 1]\n",
    "            and r[i, j] >= r[i, j - 1]\n",
    "            and r[i, j] > tau\n",
    "        ):  # Threshold\n",
    "            c.append([i, j])\n",
    "\n",
    "print(f\"Corners found at {c}\")"
   ]
  },
  {
   "cell_type": "markdown",
   "metadata": {},
   "source": [
    "# Quiz 7"
   ]
  },
  {
   "cell_type": "code",
   "execution_count": 15,
   "metadata": {},
   "outputs": [
    {
     "data": {
      "text/plain": [
       "{'points': array([[0.06911248, 0.60836222, 0.07749226, 0.3808085 , 0.39192472,\n",
       "         0.64590358, 0.48075454, 0.85126341, 0.98751457, 0.1585098 ,\n",
       "         0.42800112, 0.35318965, 0.81344836, 0.02267745, 0.54530502,\n",
       "         0.93877605, 0.05661325, 0.22504892, 0.1182399 , 0.09128742,\n",
       "         0.4009394 , 0.27185581, 0.41392803, 0.5737753 , 0.27623313,\n",
       "         0.0824709 , 0.57587571, 0.5780767 , 0.96663698, 0.38222185,\n",
       "         0.32846916, 0.83400574, 0.58624363, 0.23966859, 0.98910107,\n",
       "         0.88695829, 0.40939304, 0.78976526, 0.19805607, 0.81784108,\n",
       "         0.34157588, 0.05209379, 0.31898118, 0.21285602, 0.00789091,\n",
       "         0.49359988, 0.84910533, 0.89311695, 0.52778303, 0.83260772,\n",
       "         0.37146218, 0.15683103, 0.51521828, 0.89553227, 0.27440068,\n",
       "         0.40155061, 0.15598586, 0.59476958, 0.58388262, 0.07273128,\n",
       "         0.76430047, 0.57452332, 0.80745292, 0.41690103, 0.9622128 ,\n",
       "         0.63636018, 0.41402553, 0.98782043, 0.73864474, 0.83948487,\n",
       "         0.77731663, 0.90946487, 0.72525416, 0.50414064, 0.9234709 ,\n",
       "         0.00779228, 0.02692169, 0.4513553 , 0.64497611, 0.6423369 ,\n",
       "         0.40152666, 0.10031013, 0.03227181, 0.1998875 , 0.15308653,\n",
       "         0.18650378, 0.91293886, 0.31418654, 0.36352785, 0.16595922,\n",
       "         0.68194021, 0.92345611, 0.11615896, 0.51104823, 0.48632478,\n",
       "         0.26111379, 0.41382394, 0.03433415, 0.58356452, 0.64928707],\n",
       "        [0.98018181, 0.51836755, 0.46263783, 0.79558302, 0.79900609,\n",
       "         0.83874923, 0.91547038, 0.93909634, 0.20165871, 0.28297981,\n",
       "         0.67036017, 0.56800981, 0.16677414, 0.8744215 , 0.40222772,\n",
       "         0.60117707, 0.71547789, 0.21901815, 0.0136284 , 0.32144328,\n",
       "         0.82885486, 0.64145087, 0.32795664, 0.2842663 , 0.4415887 ,\n",
       "         0.43726837, 0.41534996, 0.46371078, 0.68192361, 0.2063969 ,\n",
       "         0.77297502, 0.82887163, 0.65541837, 0.76377502, 0.74158227,\n",
       "         0.94256502, 0.37676275, 0.27959359, 0.3355491 , 0.3519797 ,\n",
       "         0.60569564, 0.29928723, 0.34423362, 0.66222163, 0.01761982,\n",
       "         0.37928708, 0.62594744, 0.58273261, 0.37949504, 0.24300801,\n",
       "         0.1533067 , 0.63802522, 0.25855341, 0.72688113, 0.61727041,\n",
       "         0.27386087, 0.12680706, 0.3925326 , 0.87367107, 0.29626038,\n",
       "         0.17482915, 0.47494933, 0.82413358, 0.36792828, 0.11602698,\n",
       "         0.44948831, 0.08543315, 0.55829308, 0.66787719, 0.83786809,\n",
       "         0.8865444 , 0.49826943, 0.2828136 , 0.48917144, 0.54290766,\n",
       "         0.044533  , 0.6411452 , 0.72990067, 0.97838885, 0.04235574,\n",
       "         0.49787112, 0.16015959, 0.93189271, 0.39359357, 0.64752767,\n",
       "         0.72729431, 0.96175586, 0.45933169, 0.60009325, 0.15617905,\n",
       "         0.69302955, 0.19388784, 0.32584733, 0.90164297, 0.17362499,\n",
       "         0.96327512, 0.0741522 , 0.52489097, 0.77721424, 0.88755294]]),\n",
       " 'x1': array([0.48075454, 0.91547038]),\n",
       " 'x2': array([0.58356452, 0.77721424])}"
      ]
     },
     "execution_count": 15,
     "metadata": {},
     "output_type": "execute_result"
    }
   ],
   "source": [
    "data = np.load(\"media/ransac.npy\", allow_pickle=True).item()\n",
    "data"
   ]
  },
  {
   "cell_type": "code",
   "execution_count": 16,
   "metadata": {},
   "outputs": [
    {
     "name": "stdout",
     "output_type": "stream",
     "text": [
      "line eqn: [ 0.13825614  0.10280998 -0.16058676]\n",
      "inliners: (2, 34)\n"
     ]
    }
   ],
   "source": [
    "def fit_line(p1, p2):\n",
    "    \"\"\"\n",
    "    Fits a line given 2 points.\n",
    "\n",
    "    Args:\n",
    "        p1, p2 (np.array) : 2x1 inhomogenous coordinates\n",
    "\n",
    "    Returns:\n",
    "        l : 3x1, line in homogenous coordinates\n",
    "    \"\"\"\n",
    "    if p1.shape == (2,):\n",
    "        p1 = p1.reshape(2, 1)\n",
    "        p2 = p2.reshape(2, 1)\n",
    "    if p1.shape != (2, 1) or p2.shape != (2, 1):\n",
    "        raise ValueError(\"Points must be 2x1 np.array\")\n",
    "\n",
    "    p1h = PiInv(p1)\n",
    "    p2h = PiInv(p2)\n",
    "    # cross() requires input as vectors\n",
    "    l = np.cross(p1h.squeeze(), p2h.squeeze())\n",
    "    return l\n",
    "\n",
    "\n",
    "def find_inliners_outliers(l, points, tau):\n",
    "    \"\"\"\n",
    "    Args:\n",
    "        l : equation of line in homogenous coordinates\n",
    "        tau : threshold for inliners\n",
    "\n",
    "    Returns:\n",
    "        inliners (np.array) : 2xa, set of inliner points\n",
    "        outliers (np.array) : 2xb, set of outlier points\n",
    "    \"\"\"\n",
    "    inliners = []\n",
    "    outliers = []\n",
    "    for p in points.T:\n",
    "        p = p.reshape(2, 1)\n",
    "        ph = PiInv(p)\n",
    "        d = abs(l.T @ ph) / (abs(ph[2]) * np.sqrt(l[0] ** 2 + l[1] ** 2))\n",
    "        if d <= tau:  # inliner\n",
    "            inliners.append(p)\n",
    "        else:  # outlier\n",
    "            outliers.append(p)\n",
    "    inliners = np.array(inliners).squeeze().T\n",
    "    outliers = np.array(outliers).squeeze().T\n",
    "    return inliners, outliers\n",
    "\n",
    "\n",
    "# Load data\n",
    "points = data[\"points\"]\n",
    "x1 = data[\"x1\"]\n",
    "x2 = data[\"x2\"]\n",
    "tau = 0.2\n",
    "\n",
    "# Fit line\n",
    "l = fit_line(x1, x2)\n",
    "print(f\"line eqn: {l}\")\n",
    "\n",
    "inliners, outliers = find_inliners_outliers(l, points, tau)\n",
    "print(f\"inliners: {inliners.shape}\")"
   ]
  },
  {
   "cell_type": "code",
   "execution_count": 19,
   "metadata": {},
   "outputs": [
    {
     "data": {
      "text/plain": [
       "707.5554825030302"
      ]
     },
     "execution_count": 19,
     "metadata": {},
     "output_type": "execute_result"
    }
   ],
   "source": [
    "best_consensus = 103\n",
    "p = 0.95\n",
    "n_points = 404\n",
    "# 8 DoF in homography matrix\n",
    "# but, only 4 pairs of points are needed to estimate homography\n",
    "n = 4\n",
    "\n",
    "# Stopping criteria\n",
    "e_est = 1 - best_consensus / n_points\n",
    "N_est = np.log(1 - p) / np.log(1 - (1 - e_est) ** n)\n",
    "N_est"
   ]
  },
  {
   "cell_type": "markdown",
   "metadata": {},
   "source": [
    "# Quiz 10"
   ]
  },
  {
   "cell_type": "code",
   "execution_count": 8,
   "metadata": {},
   "outputs": [
    {
     "data": {
      "text/plain": [
       "1.1914696806885186"
      ]
     },
     "execution_count": 8,
     "metadata": {},
     "output_type": "execute_result"
    }
   ],
   "source": [
    "chi_sq = 4.61  # 90% confidence\n",
    "sigma = 2.6\n",
    "threshold = (chi_sq * sigma**2) ** 0.5\n",
    "threshold"
   ]
  }
 ],
 "metadata": {
  "kernelspec": {
   "display_name": "cv",
   "language": "python",
   "name": "python3"
  },
  "language_info": {
   "codemirror_mode": {
    "name": "ipython",
    "version": 3
   },
   "file_extension": ".py",
   "mimetype": "text/x-python",
   "name": "python",
   "nbconvert_exporter": "python",
   "pygments_lexer": "ipython3",
   "version": "3.12.1"
  }
 },
 "nbformat": 4,
 "nbformat_minor": 2
}
